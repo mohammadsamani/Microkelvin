{
 "cells": [
  {
   "cell_type": "code",
   "execution_count": 1,
   "metadata": {},
   "outputs": [
    {
     "name": "stdout",
     "output_type": "stream",
     "text": [
      "Datediff between fucking Apple and UNIX TIME STAMP 2082844800.0 seconds\n"
     ]
    }
   ],
   "source": [
    "%run support.py\n",
    "%matplotlib inline\n",
    "import numpy as np\n",
    "import matplotlib as mpl\n",
    "import matplotlib.pyplot as plt\n",
    "import matplotlib.dates as mdates\n",
    "import matplotlib.image as mpimg\n",
    "import matplotlib.patches as patches\n",
    "import h5py, time, datetime, json\n",
    "import scipy.integrate as integrate\n",
    "from scipy.optimize import curve_fit, brentq\n",
    "from lmfit import minimize, Parameters, report_fit\n",
    "plt.style.use('~/Shared JupyterHub Notebooks/interactive.mplstyle')\n",
    "\n",
    "R_wire=4200 * 2/Rk\n",
    "timeformat = mdates.DateFormatter('%H:%M')\n",
    "datediff = mdates.datestr2num('1970-01-01')-mdates.datestr2num('1904-01-01')\n",
    "print(f\"Datediff between fucking Apple and UNIX TIME STAMP {datediff*24*3600} seconds\")\n",
    "datafolder = \"/mnt/Measurement_Data/phys-dots-26/Cooldown38\"\n",
    "gT = 0.29525\n",
    "Ec = 1.51986/2"
   ]
  },
  {
   "cell_type": "markdown",
   "metadata": {},
   "source": [
    "# Precool"
   ]
  },
  {
   "cell_type": "code",
   "execution_count": 2,
   "metadata": {},
   "outputs": [],
   "source": [
    "# Load mixing chamber data\n",
    "time_started = datetime.datetime.strptime(\"2019/12/19 12:20:43\", '%Y/%m/%d %H:%M:%S').timestamp()\n",
    "time_completed = datetime.datetime.strptime(\"2020/01/05 14:41:23\", '%Y/%m/%d %H:%M:%S').timestamp()\n",
    "\n",
    "result = GetBFData(6, time_started, time_completed)\n",
    "\n",
    "#result = GetBFData(6, \"2019-12-19 12:20:43\", \"2020-01-05 14:41:23\")\n",
    "\n",
    "result[:,0] = result[:,0] - result[0,0]\n",
    "result[:,1] = MakeSmoothie(result[:,1], ws=50)\n",
    "time_MC = result[:,0]\n",
    "temp_MC = result[:,1]\n",
    "# Load CBT temperature during precooling\n",
    "precoolwaves = [806, 812, 813, 814, 815, 816, 817, 818]\n",
    "time_cbt_precool = np.zeros(0)\n",
    "temp_cbt_precool = np.zeros(0)\n",
    "for i, wn in enumerate(precoolwaves):\n",
    "    filename = f\"d{wn}_time.h5\"\n",
    "    with h5py.File(f\"{datafolder}/{filename}\", 'r') as f:\n",
    "        t = np.array(f['x_array'])\n",
    "        g = np.array(f['GcbtlowEc'])\n",
    "        b = np.array(f['bzIPSB'])\n",
    "    flt = np.logical_not(np.isnan(g))\n",
    "    t = t[flt]\n",
    "    g = g[flt]\n",
    "    b = [flt]\n",
    "    if i==0:\n",
    "        t0 = t[0]\n",
    "    g = 1/(1/g - 2*R_wire)\n",
    "    Temp = Tcbt_Cu(g/gT, Ec=Ec*1e3)\n",
    "    time_cbt_precool = np.append(time_cbt_precool, (t-t0))\n",
    "    temp_cbt_precool = np.append(temp_cbt_precool, Temp)\n",
    "    \n",
    "temp_cbt_precool = MakeSmoothie(temp_cbt_precool, ws=500)/1000\n",
    "Tcbt0_precool = np.average(temp_cbt_precool[0:10])"
   ]
  },
  {
   "cell_type": "markdown",
   "metadata": {},
   "source": [
    "# Demag"
   ]
  },
  {
   "cell_type": "code",
   "execution_count": 3,
   "metadata": {},
   "outputs": [
    {
     "name": "stdout",
     "output_type": "stream",
     "text": [
      "Filename = d819_time.h5\n",
      "Initial temperatures:  [15.927065067951839, 15.927065067951839, 0.012155860000000001]\n"
     ]
    }
   ],
   "source": [
    "# Load CBT temperature during demag\n",
    "demagwaves = [819]\n",
    "time_cbt_demag = np.zeros(0)\n",
    "temp_cbt_demag = np.zeros(0)\n",
    "b_demag = np.zeros(0)\n",
    "for i, wn in enumerate(demagwaves):\n",
    "    filename = f\"d{wn}_time.h5\"\n",
    "    print(f\"Filename = {filename}\")\n",
    "    with h5py.File(f\"{datafolder}/{filename}\", 'r') as f:\n",
    "        t = np.array(f['x_array'])\n",
    "        g = np.array(f['GcbtlowEc'])\n",
    "        b = np.array(f['bzIPSB'])\n",
    "    flt = np.logical_not(np.isnan(g))\n",
    "    t = t[flt]\n",
    "    g = g[flt]\n",
    "    b = b[flt]\n",
    "    g = 1/(1/g - 2*R_wire)\n",
    "    temp = Tcbt_Cu(g/gT, Ec=Ec*1e3)\n",
    "    time_cbt_demag = np.append(time_cbt_demag, t)\n",
    "    temp_cbt_demag = np.append(temp_cbt_demag, temp)\n",
    "    b_demag = np.append(b_demag, b)\n",
    "\n",
    "last_index = np.min(np.where(b_demag<=0.06))\n",
    "time_cbt_demag = time_cbt_demag[0:last_index]\n",
    "temp_cbt_demag = temp_cbt_demag[0:last_index]/1000\n",
    "b_demag = b_demag[0:last_index]\n",
    "t_f_demag = time_cbt_demag[-1]\n",
    "T0_demag = [np.average(temp_cbt_demag[0:10]), np.average(temp_cbt_demag[0:10]), np.average(temp_MC[-10:-1])]\n",
    "print(\"Initial temperatures: \", T0_demag)\n",
    "\n",
    "# Demag\n",
    "def Tdot_demag(t, T, A, p, QdotparBefore, QdotplBefore, QdotparAfter, QdotplAfter):\n",
    "    Te, Tn, Tepl, Tnpl = T\n",
    "    local_h = np.interp([t-1,t,t+1], time_cbt_demag, b_demag)\n",
    "    h = local_h[1]\n",
    "    hdot = (local_h[2] - local_h[0])/2\n",
    "    \n",
    "    Qdotpar_local = QdotparBefore if h>2 else QdotparAfter\n",
    "    Qdotpl_local = QdotplBefore if h>2 else QdotplAfter\n",
    "    \n",
    "    Qdot = Qdotpar_local - A*(Te**p - Tepl**p)/nmol # Heat from outside of CBT\n",
    "    C_n = Cn(Tn,h)\n",
    "    C_e = Ce(Te)\n",
    "    Cpl_n = Cn(Tnpl,h)\n",
    "    Cpl_e = Ce(Tepl)\n",
    "    \n",
    "    Tedot = Qdotpar_local/C_e - (Te - Tn)*(Tn*C_n/(Korringa*C_e))\n",
    "    Tndot = Tn*(Te-Tn)/Korringa + Tn*hdot/h\n",
    "    Tepldot = Qdotpl_local/Cpl_e - (Tepl - Tnpl)*(Tnpl*Cpl_n/(Korringa*Cpl_e))\n",
    "    Tnpldot = Tnpl*(Tepl-Tnpl)/Korringa + Tnpl*hdot/h\n",
    "    return [Tedot, Tndot, Tepldot, Tnpldot]"
   ]
  },
  {
   "cell_type": "markdown",
   "metadata": {},
   "source": [
    "# Warm-up"
   ]
  },
  {
   "cell_type": "code",
   "execution_count": 4,
   "metadata": {},
   "outputs": [],
   "source": [
    "warmupwaves = [819, 823, 824]\n",
    "time_cbt_warmup = np.zeros(0)\n",
    "temp_cbt_warmup = np.zeros(0)\n",
    "b_warmup = np.zeros(0)\n",
    "for i, wn in enumerate(warmupwaves):\n",
    "    filename = f\"d{wn}_time.h5\"\n",
    "    with h5py.File(f\"{datafolder}/{filename}\", 'r') as f:\n",
    "        t = np.array(f['x_array'])\n",
    "        g = np.array(f['GcbtlowEc'])\n",
    "        b = np.array(f['bzIPSB'])\n",
    "    flt = np.logical_not(np.isnan(g))\n",
    "    bflt = b<0.0601\n",
    "    t = t[bflt]\n",
    "    g = g[bflt]\n",
    "    b = b[bflt]\n",
    "    g = 1/(1/g - 2*R_wire)\n",
    "    temp = Tcbt_Cu(g/gT, Ec=Ec*1e3)/1000\n",
    "    time_cbt_warmup = np.append(time_cbt_warmup, t)\n",
    "    temp_cbt_warmup = np.append(temp_cbt_warmup, temp)\n",
    "    b_warmup = np.append(b_warmup, b)\n",
    "Bf = b_warmup[-1]"
   ]
  },
  {
   "cell_type": "code",
   "execution_count": 5,
   "metadata": {},
   "outputs": [
    {
     "data": {
      "image/png": "[encoded data removed]",
      "text/plain": [
       "<Figure size 360x432 with 2 Axes>"
      ]
     },
     "metadata": {
      "needs_background": "light"
     },
     "output_type": "display_data"
    }
   ],
   "source": [
    "fig, ax = plt.subplots(2,1,figsize=(5, 6))\n",
    "\n",
    "sparce = 5\n",
    "\n",
    "# Demag + Warm-up\n",
    "t0 = time_cbt_warmup[0]\n",
    "time_cbt_demag -= t0\n",
    "time_cbt_warmup -= t0\n",
    "ax[0].plot(time_cbt_demag[::sparce]/3600, temp_cbt_demag[::sparce], '.', color=colors[0])\n",
    "ax[0].plot(time_cbt_warmup[::sparce]/3600, temp_cbt_warmup[::sparce], '.', color=colors[0])\n",
    "#ax[0].set_xlabel('Time (hours)')\n",
    "ax[0].set_ylabel('Temperature (mK)')\n",
    "ax[0].grid()\n",
    "ax[0].set_yscale('log')\n",
    "ax[0].set_yticks([0.3, 1, 3, 10, 30])\n",
    "ax[0].set_yticklabels([0.3, 1, 3, 10, 30])\n",
    "#ax[0].legend(loc=(0.35,0.65), ncol=2, framealpha=1, edgecolor='w')\n",
    "ax[0].set_ylim(0.2, 100)\n",
    "ax[0].plot([0, 0], [3, 100], '--k')\n",
    "ax[0].text(-2.5, 60, \"Demag\")\n",
    "ax[0].text(0.2, 60, r\"Warm-up $\\mathrm{B_f}$=60 mT\")\n",
    "\n",
    "min_Temp_index = np.where(temp_cbt_warmup == np.min(temp_cbt_warmup))[0][0]\n",
    "min_Temp = np.mean(temp_cbt_warmup[min_Temp_index-4:min_Temp_index+5])\n",
    "ax[0].plot([time_cbt_warmup[min_Temp_index]/3600], [min_Temp], 'or')\n",
    "ax[0].text(time_cbt_warmup[min_Temp_index]/3600 + 1, min_Temp, f\"{min_Temp*1e3:.0f} µK\", color='r')\n",
    "\n",
    "# Fit a line\n",
    "fitslc = np.logical_and(time_cbt_warmup/3600 > 1.8, time_cbt_warmup/3600<3.3)\n",
    "linfit = np.polyfit(time_cbt_warmup[fitslc],1e3/temp_cbt_warmup[fitslc],1)\n",
    "fittime = np.linspace(0, 3.5*3600)\n",
    "fitinvtemp = np.poly1d(linfit)(fittime)\n",
    "Qdot = -Cu_CC * Bf**2 / (mu0 * (1/linfit[0] + Cu_Korringa))\n",
    "ax[1].plot(time_cbt_warmup[::sparce]/3600, 1/temp_cbt_warmup[::sparce], '.')\n",
    "ax[1].plot(fittime/3600, fitinvtemp*1e-3, '--', label=f\"$\\dot{{Q}}$={Qdot*1e9:.1f} nW/mol\")\n",
    "\n",
    "# Fit another line\n",
    "#fitslc = np.logical_and(time_cbt_warmup/3600 > 4, time_cbt_warmup/3600<11.5)\n",
    "#linfit = np.polyfit(time_cbt_warmup[fitslc],1e3/temp_cbt_warmup[fitslc],1)\n",
    "#fittime = np.linspace(0, 11.5*3600)\n",
    "#fitinvtemp = np.poly1d(linfit)(fittime)\n",
    "#Qdot = -Cu_CC * Bf**2 / (mu0 * (1/linfit[0] + Cu_Korringa))\n",
    "#ax[1].plot(fittime/3600, fitinvtemp*1e-3, 'r--', label=f\"$\\dot{{Q}}$={Qdot*1e12:.0f} pW/mol\")\n",
    "\n",
    "ax[1].set_xlabel('Time (hours)')\n",
    "ax[1].set_ylabel('1/T (1/mK)')\n",
    "ax[1].grid()\n",
    "#ax[1].set_xlim(-0.5, 12.5)\n",
    "yticks = np.array([0.2, 0.3, 0.5, 1.0, 2.0])\n",
    "yticklabels = np.array([f\"{i:.1f}\" for i in yticks])\n",
    "#ax[1].set_yticks(1/yticks)\n",
    "#ax[1].set_yticklabels(yticklabels)\n",
    "#ax[1].legend(loc=(0.12, 0.75), ncol=2, columnspacing=0.5, framealpha=1, edgecolor='w')\n",
    "ax[1].legend(title=r\"$\\mathrm{B_f}$=60 mT\")\n",
    "\n",
    "fig.savefig(\"FS4.pdf\", transparent=True, bbox_inches='tight', pad_inches=0.01)"
   ]
  },
  {
   "cell_type": "code",
   "execution_count": null,
   "metadata": {},
   "outputs": [],
   "source": []
  }
 ],
 "metadata": {
  "kernelspec": {
   "display_name": "Python 3",
   "language": "python",
   "name": "python3"
  },
  "language_info": {
   "codemirror_mode": {
    "name": "ipython",
    "version": 3
   },
   "file_extension": ".py",
   "mimetype": "text/x-python",
   "name": "python",
   "nbconvert_exporter": "python",
   "pygments_lexer": "ipython3",
   "version": "3.6.9"
  }
 },
 "nbformat": 4,
 "nbformat_minor": 4
}
