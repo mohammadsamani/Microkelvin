{
 "cells": [
  {
   "cell_type": "code",
   "execution_count": 1,
   "metadata": {},
   "outputs": [],
   "source": [
    "%matplotlib inline\n",
    "%run support.py\n",
    "import os\n",
    "plt.style.use('~/Shared JupyterHub Notebooks/interactive.mplstyle')\n",
    "#datafolder = \"./data/Measurements/Cooldown20200826\"\n",
    "import matplotlib.gridspec as gridspec\n",
    "from scipy.io import loadmat\n",
    "from scipy.optimize import curve_fit\n",
    "from scipy.interpolate import interp2d\n",
    "from pathlib import Path\n",
    "from datetime import datetime, timedelta"
   ]
  },
  {
   "cell_type": "markdown",
   "metadata": {},
   "source": [
    "# Precooling After and Before Fixing Wires"
   ]
  },
  {
   "cell_type": "code",
   "execution_count": 2,
   "metadata": {},
   "outputs": [
    {
     "data": {
      "image/png": "[encoded data removed]",
      "text/plain": [
       "<Figure size 360x216 with 2 Axes>"
      ]
     },
     "metadata": {
      "needs_background": "light"
     },
     "output_type": "display_data"
    }
   ],
   "source": [
    "datafolder = \"/mnt/Measurement_Data/phys-dots-26/Cooldown20200826\"\n",
    "gT_Cu = 21.683533093853708e-6\n",
    "precool_wavenums = [634, 635]\n",
    "fig, ax = plt.subplots(1,2,figsize=(5,3))\n",
    "\n",
    "for i, wn in enumerate(precool_wavenums):\n",
    "    filename = f\"d{wn}_time.h5\"\n",
    "    with h5py.File(f\"{datafolder}/{filename}\", 'r') as f:\n",
    "        t = np.array(f['x_array'])\n",
    "        #dt = np.array([datetime.fromtimestamp(t[i]) for i in range(len(t))])\n",
    "        gCu = np.array(f['gCu'])\n",
    "        b = np.array(f['bdemagIPSB'])\n",
    "        #print(f['metadata'].attrs['sweep_logs'])\n",
    "    gCu = 1/(1/gCu - 2*R_wire)\n",
    "    gCu = MakeSmoothie(gCu, ws=150)\n",
    "    if i==0:\n",
    "        t0=t[0]\n",
    "        ti = t[b<9][-1]\n",
    "    if i==len(precool_wavenums)-1:\n",
    "        tf = t[-1]\n",
    "\n",
    "    mag_filter = b<9\n",
    "    precool_filter = b>=8.99\n",
    "        \n",
    "    ax[0].plot(b[mag_filter], Tcbt_Cu(gCu[mag_filter]/gT_Cu, Ec=Ec_Cu*1e-3)*1e3, color=colors[0])\n",
    "    ax[1].plot((t[precool_filter]-ti)/3600/24, Tcbt_Cu(gCu[precool_filter]/gT_Cu, Ec=Ec_Cu*1e-3)*1e3, color=colors[0])\n",
    "    \n",
    "for i in range(2):\n",
    "    ax[i].set_ylim(5,30)\n",
    "    ax[i].grid()\n",
    "    ax[i].set_ylim(5,25)\n",
    "    ax[i].set_yticks(np.linspace(5,25,5))\n",
    "    \n",
    "#ax.set_yscale('log')\n",
    "ax[0].set_xlabel(\"Magnetic Field (T)\")\n",
    "ax[0].set_ylabel(\"CBT Temperature (mK)\")\n",
    "ax[0].set_xticks([0,3,6,9])\n",
    "ax[0].set_xlim(0,9)\n",
    "ax[1].set_xlim(0,6.2)\n",
    "ax[1].set_yticklabels([])\n",
    "ax[1].set_xlabel(\"Time (days)\")\n",
    "ax[1].text(2.15, 22, \"B=9 T\")\n",
    "\n",
    "#ax[1].tick_params(axis='x', rotation=45)\n",
    "fig.savefig(\"FS6.pdf\")"
   ]
  }
 ],
 "metadata": {
  "kernelspec": {
   "display_name": "Python 3",
   "language": "python",
   "name": "python3"
  },
  "language_info": {
   "codemirror_mode": {
    "name": "ipython",
    "version": 3
   },
   "file_extension": ".py",
   "mimetype": "text/x-python",
   "name": "python",
   "nbconvert_exporter": "python",
   "pygments_lexer": "ipython3",
   "version": "3.6.9"
  }
 },
 "nbformat": 4,
 "nbformat_minor": 4
}
