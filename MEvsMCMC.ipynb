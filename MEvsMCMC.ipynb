{
 "cells": [
  {
   "cell_type": "code",
   "execution_count": 1,
   "metadata": {},
   "outputs": [],
   "source": [
    "%run support.py\n",
    "%matplotlib widget\n",
    "import numpy as np\n",
    "import matplotlib as mpl\n",
    "import matplotlib.pyplot as plt\n",
    "import matplotlib.dates as mdates\n",
    "import scipy.integrate as integrate\n",
    "import h5py, time, datetime, json\n",
    "from scipy.optimize import curve_fit, brentq, least_squares\n",
    "from IPython.display import clear_output, display\n",
    "plt.style.use('~/Shared JupyterHub Notebooks/interactive.mplstyle')\n",
    "colors = plt.rcParams['axes.prop_cycle'].by_key()['color']\n",
    "\n",
    "from numpy import genfromtxt\n",
    "data = genfromtxt('data/S1_MC_C0.dat', delimiter='  ')\n",
    "C0_g0gT = data[:,1]\n",
    "C0_Te = data[:,0]\n",
    "\n",
    "data = genfromtxt('data/S1_MC_CG.dat', delimiter='  ')\n",
    "CG_g0gT = data[:,1]\n",
    "CG_Te = data[:,0]\n",
    "\n",
    "data = genfromtxt('data/S1_ME.dat', delimiter='  ')\n",
    "ME_g0gT = data[:,1]\n",
    "ME_Te = data[:,0]"
   ]
  },
  {
   "cell_type": "code",
   "execution_count": 2,
   "metadata": {},
   "outputs": [
    {
     "data": {
      "application/vnd.jupyter.widget-view+json": {
       "model_id": "d812a748de014f90844f08948704c5c6",
       "version_major": 2,
       "version_minor": 0
      },
      "text/plain": [
       "Canvas(toolbar=Toolbar(toolitems=[('Home', 'Reset original view', 'home', 'home'), ('Back', 'Back to previous …"
      ]
     },
     "metadata": {},
     "output_type": "display_data"
    }
   ],
   "source": [
    "scale = 0.5\n",
    "fig, ax = plt.subplots(figsize=(5, 3))\n",
    "ax.loglog(CG_Te*scale, CG_g0gT, label=r'MCMC, gCBT ($\\mathrm{C_0}=0$)')\n",
    "ax.loglog(C0_Te*scale, C0_g0gT, label=r'MCMC, jCBT ($\\mathrm{C_g}=0$)')\n",
    "ax.loglog(ME_Te*scale, ME_g0gT, 'k--', label=r'Master Equation')\n",
    "#ax.set_xscale('log')\n",
    "#ax.set_yscale('log')\n",
    "\n",
    "#Te = 0.224 # mK\n",
    "#u=2*Ec_Cu/Te\n",
    "#ax.axvline(x=1/u)\n",
    "#ax.axhline(y=0.334)\n",
    "#ax.plot(1/u, 0.334, 'xr')\n",
    "\n",
    "xticks = [0.1,0.3,1]\n",
    "yticks = np.linspace(0.3, 1.0, 8) #[0.3, 0.4, 0.5, 0.6, 0.7, 0.8, 1.0]\n",
    "\n",
    "ax.set_xlim(0.1, 1.2)\n",
    "ax.set_xticks(xticks)\n",
    "ax.set_xticklabels(xticks)\n",
    "ax.set_xlabel(r\"$\\mathrm{k_B T/(e^2/C_\\Sigma)}$\")\n",
    "\n",
    "ax.set_ylim(0.24, 1.05)\n",
    "ax.set_yticks(yticks)\n",
    "ax.set_yticklabels([f\"{x:.1f}\" for x in yticks])\n",
    "ax.yaxis.set_minor_locator(mpl.ticker.LogLocator(subs='all', numticks=1)) # Remove minor ticks\n",
    "ax.set_ylabel(r\"$\\mathrm{g_0/g_T}$\")\n",
    "ax.legend(loc=4) #framealpha=1, edgecolor='w')\n",
    "ax.grid()\n",
    "fig.savefig('MEvsMCMC.pdf', transparent=True, bbox_inches='tight', pad_inches=0)"
   ]
  }
 ],
 "metadata": {
  "kernelspec": {
   "display_name": "Python 3",
   "language": "python",
   "name": "python3"
  },
  "language_info": {
   "codemirror_mode": {
    "name": "ipython",
    "version": 3
   },
   "file_extension": ".py",
   "mimetype": "text/x-python",
   "name": "python",
   "nbconvert_exporter": "python",
   "pygments_lexer": "ipython3",
   "version": "3.6.9"
  }
 },
 "nbformat": 4,
 "nbformat_minor": 4
}
